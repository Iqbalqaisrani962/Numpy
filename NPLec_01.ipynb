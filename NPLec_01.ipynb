{
 "cells": [
  {
   "attachments": {},
   "cell_type": "markdown",
   "metadata": {},
   "source": [
    "# ***Numpy***\n",
    "\n",
    "\n",
    "- *A **NumPy array** (https://numpy.org) is a numerically ordered sequence of elements stored contiguously in memory, that can store elements of homogeneous types (usually numbers but can be boolians, strings, or other objects), is iterable, mutable, non-growable/shrinkable and allows duplicate elements.*\n",
    "- Some attributes of NumPy Array:\n",
    ">- **ndim:** The number of dimensions, can be 1, 2, 3, ... N\n",
    ">- **axis:** Each dimension is called an axis: `axis 0` is the vertical axis, goes from top to bottom, represents the number of rows, `axis 1` is the horizontal axis, goes from left to right, represents the number of columns, `axis 2` is the number of columns along z axis\n",
    ">- **rank:** The number of axes is called the rank.\n",
    ">- **shape:** It is a tuple whose length is the rank and elements are dimension of each axis.\n",
    ">- **size:** It is the total number of elements, which is the product of all axis lengths.\n",
    ">- **itemsize:** It gives you the size in bytes of each element of the array (depends on dtype).\n",
    ">- **nbytes:** It gives you the total number of bytes occupied by entire array object in memory (size x itemsize).\\\n",
    "\n",
    "#### ***Creating Array***\n",
    "- `np.array()`\n",
    "- Empty \n",
    "- 0 D\n",
    "- 1 D\n",
    "- 2 D\n",
    "- 3 D\n"
   ]
  },
  {
   "cell_type": "code",
   "execution_count": 8,
   "metadata": {},
   "outputs": [
    {
     "name": "stdout",
     "output_type": "stream",
     "text": [
      "Array:  []\n",
      "Type of array:  <class 'numpy.ndarray'>\n",
      "Dimensions:  1\n",
      "Shape:  (0,)\n",
      "Size:  0\n",
      "Data Type:  float64\n"
     ]
    }
   ],
   "source": [
    "import numpy as np\n",
    "arr1 = np.array([])\n",
    "print(\"Array: \", arr1)\n",
    "print(\"Type of array: \", type(arr1))\n",
    "print(\"Dimensions: \", arr1.ndim)       # return the number of dimensions, an empty string means 1 dimensions\n",
    "print(\"Shape: \", arr1.shape)           # return a tuple shows shape of array\n",
    "print(\"Size: \", arr1.size)             # return the number of elements\n",
    "print(\"Data Type: \", arr1.dtype)       # return the data type of array, bydefault is float 64\n",
    "print(\"Item Size: \", arr1.itemsize)    # return the data type of array, bydefault is float 64"
   ]
  }
 ],
 "metadata": {
  "kernelspec": {
   "display_name": "Python 3",
   "language": "python",
   "name": "python3"
  },
  "language_info": {
   "codemirror_mode": {
    "name": "ipython",
    "version": 3
   },
   "file_extension": ".py",
   "mimetype": "text/x-python",
   "name": "python",
   "nbconvert_exporter": "python",
   "pygments_lexer": "ipython3",
   "version": "3.10.8"
  },
  "orig_nbformat": 4,
  "vscode": {
   "interpreter": {
    "hash": "c938f314aa5630f5fcf3b4aad588f4edd0dbe140357325e666a8226cee1b2bf6"
   }
  }
 },
 "nbformat": 4,
 "nbformat_minor": 2
}
