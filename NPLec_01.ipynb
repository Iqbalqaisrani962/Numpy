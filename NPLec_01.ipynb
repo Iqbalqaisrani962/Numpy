{
 "cells": [
  {
   "cell_type": "markdown",
   "metadata": {},
   "source": [
    "# ***Numpy***\n",
    "\n",
    "\n",
    "- *A **NumPy array** (https://numpy.org) is a numerically ordered sequence of elements stored contiguously in memory, that can store elements of homogeneous types (usually numbers but can be boolians, strings, or other objects), is iterable, mutable, non-growable/shrinkable and allows duplicate elements.*\n",
    "- Some attributes of NumPy Array:\n",
    ">- **ndim:** The number of dimensions, can be 1, 2, 3, ... N\n",
    ">- **axis:** Each dimension is called an axis: `axis 0` is the vertical axis, goes from top to bottom, represents the number of rows, `axis 1` is the horizontal axis, goes from left to right, represents the number of columns, `axis 2` is the number of columns along z axis\n",
    ">- **rank:** The number of axes is called the rank.\n",
    ">- **shape:** It is a tuple whose length is the rank and elements are dimension of each axis.\n",
    ">- **size:** It is the total number of elements, which is the product of all axis lengths.\n",
    ">- **itemsize:** It gives you the size in bytes of each element of the array (depends on dtype).\n",
    ">- **nbytes:** It gives you the total number of bytes occupied by entire array object in memory (size x itemsize).\\\n",
    "\n",
    "#### ***Creating Array***\n",
    "- `np.array()`\n",
    "- Empty \n",
    "- 0 D\n",
    "- 1 D\n",
    "- 2 D\n",
    "- 3 D\n"
   ]
  },
  {
   "cell_type": "code",
   "execution_count": 11,
   "metadata": {},
   "outputs": [
    {
     "name": "stdout",
     "output_type": "stream",
     "text": [
      "Array:  []\n",
      "Type of array:  <class 'numpy.ndarray'>\n",
      "Dimensions:  1\n",
      "Shape:  (0,)\n",
      "Size:  0\n",
      "Data Type:  float64\n",
      "Item Size in bytes:  8\n",
      "No of Bytes:  0\n",
      "Array Data:  <memory at 0x7f5a95d03940>\n",
      "Array Strides:  (8,)\n",
      "Array Flag:    C_CONTIGUOUS : True\n",
      "  F_CONTIGUOUS : True\n",
      "  OWNDATA : True\n",
      "  WRITEABLE : True\n",
      "  ALIGNED : True\n",
      "  WRITEBACKIFCOPY : False\n",
      "  UPDATEIFCOPY : False\n",
      "\n",
      "[[1 2 3]\n",
      " [4 5 6]\n",
      " [7 8 9]]\n"
     ]
    }
   ],
   "source": [
    "import numpy as np\n",
    "\n",
    "# creating empty array\n",
    "arr1 = np.array([])\n",
    "print(\"Array: \", arr1)\n",
    "print(\"Type of array: \", type(arr1))\n",
    "print(\"Dimensions: \", arr1.ndim)                # return the number of dimensions, an empty string means 1 dimensions\n",
    "print(\"Shape: \", arr1.shape)                    # return a tuple shows shape of array\n",
    "print(\"Size: \", arr1.size)                      # return the number of elements\n",
    "print(\"Data Type: \", arr1.dtype)                # return the data type of array, default is float 64\n",
    "print(\"Item Size in bytes: \", arr1.itemsize)    # return item size of each element in bytes, default is 8 for float 64\n",
    "print(\"No of Bytes: \", arr1.nbytes)             # return the number of bytes of whole array\n",
    "print(\"Array Data: \", arr1.data)                # return the array data\n",
    "print(\"Array Strides: \", arr1.strides)          # return strides\n",
    "print(\"Array Flag: \", arr1.flags)               # return the flags\n",
    "\n"
   ]
  },
  {
   "cell_type": "code",
   "execution_count": 31,
   "metadata": {},
   "outputs": [
    {
     "name": "stdout",
     "output_type": "stream",
     "text": [
      "[[1 2 3]\n",
      " [4 5 6]\n",
      " [7 8 9]]\n",
      "0 0\n",
      "0 1\n",
      "0 2\n",
      "1 0\n",
      "1 1\n",
      "1 2\n",
      "2 0\n",
      "2 1\n",
      "2 2\n",
      "Array [1 2 3 4 5]\n",
      "Array Dimensions:  1\n",
      "Array Shape:  (5,)\n",
      "Array Size:  5\n",
      "Array Data Type: : uint8\n",
      "Each Item Size: 1\n",
      "Whole array size in bytes: 5\n",
      "Array Data:  <memory at 0x7f5a7375d880>\n",
      "Array Strides:  (1,)\n",
      "Array Flags:    C_CONTIGUOUS : True\n",
      "  F_CONTIGUOUS : True\n",
      "  OWNDATA : True\n",
      "  WRITEABLE : True\n",
      "  ALIGNED : True\n",
      "  WRITEBACKIFCOPY : False\n",
      "  UPDATEIFCOPY : False\n",
      "\n"
     ]
    }
   ],
   "source": [
    "# creating 1-D array\n",
    "arr2 = np.array([[1,2,3],[4,5,6],[7,8,9]])\n",
    "print(arr2)\n",
    "\n",
    "for i in range(3):\n",
    "    for j in range(3):\n",
    "        print(i,j)\n",
    "\n",
    "arr3 = np.array([1,2,3,4,5])\n",
    "list1 = [1,2,3,4,5]\n",
    "arr3 = np.array(list1, dtype = np.uint8)\n",
    "print(\"Array\",arr3)\n",
    "\n",
    "print(\"Array Dimensions: \", arr3.ndim)     \n",
    "print(\"Array Shape: \", arr3.shape)                # it has 5 elements in one dimensional array \n",
    "print(\"Array Size: \", arr3.size)\n",
    "print(\"Array Data Type: :\", arr3.dtype)\n",
    "print(\"Each Item Size:\", arr3.itemsize)\n",
    "print(\"Whole array size in bytes:\", arr3.nbytes)\n",
    "print(\"Array Data: \",arr3.data)\n",
    "print(\"Array Strides: \", arr3.strides)            # jumps in bytes to move next element\n",
    "print(\"Array Flags: \", arr3.flags)                # return the memory data"
   ]
  },
  {
   "cell_type": "code",
   "execution_count": 48,
   "metadata": {},
   "outputs": [
    {
     "name": "stdout",
     "output_type": "stream",
     "text": [
      "Array:  [[ 1  2  3]\n",
      " [ 4  5  6]\n",
      " [ 8  9 10]]\n",
      "Dimensions:  2\n",
      "Shape:  (3, 3)\n",
      "Strides (24, 8)\n",
      "Size of array:  9\n",
      "Item Size in bytes:  8\n",
      "Whole array size in bytes:  72\n",
      "Print the flag:    C_CONTIGUOUS : True\n",
      "  F_CONTIGUOUS : False\n",
      "  OWNDATA : True\n",
      "  WRITEABLE : True\n",
      "  ALIGNED : True\n",
      "  WRITEBACKIFCOPY : False\n",
      "  UPDATEIFCOPY : False\n",
      "\n",
      "Array Data Type:  uint64\n"
     ]
    }
   ],
   "source": [
    "# 2 D arrays\n",
    "\n",
    "l1 = [\n",
    "    [1,2,3],\n",
    "    [4,5,6],\n",
    "    [8,9,10]\n",
    "]\n",
    "arr4 = np.array(l1 , dtype = np.uint64)   \n",
    "print(\"Array: \",arr4)\n",
    "print(\"Dimensions: \", arr4.ndim)\n",
    "print(\"Shape: \", arr4.shape)\n",
    "print(\"Strides\", arr4.strides)               # 24 bytes to move next row, and 8 bytes to move next coloum item\n",
    "print(\"Size of array: \", arr4.size)          # return the number of elements, 3*3\n",
    "print(\"Item Size in bytes: \", arr4.itemsize)\n",
    "print(\"Whole array size in bytes: \", arr4.nbytes)\n",
    "print(\"Print the flag: \", arr4.flags)\n",
    "print(\"Array Data Type: \", arr4.dtype)"
   ]
  },
  {
   "cell_type": "code",
   "execution_count": 67,
   "metadata": {},
   "outputs": [
    {
     "name": "stdout",
     "output_type": "stream",
     "text": [
      "Array:  [[[1 2 3 4]\n",
      "  [3 4 5 6]\n",
      "  [2 3 4 5]\n",
      "  [4 5 6 7]]\n",
      "\n",
      " [[6 7 8 9]\n",
      "  [4 5 6 7]\n",
      "  [2 3 4 5]\n",
      "  [5 6 7 8]]\n",
      "\n",
      " [[2 3 4 5]\n",
      "  [3 4 5 6]\n",
      "  [3 4 5 6]\n",
      "  [5 6 7 8]]]\n",
      "Array Shape:  (3, 4, 4)\n",
      "Dimensions: 3\n",
      "Size of array:  48\n",
      "Each item size:  8\n",
      "Number of bytes: 384\n",
      "Strides:  (128, 32, 8)\n",
      "Memory Data: <memory at 0x7f5a8c039a90>\n",
      "Memory Flag:    C_CONTIGUOUS : True\n",
      "  F_CONTIGUOUS : False\n",
      "  OWNDATA : True\n",
      "  WRITEABLE : True\n",
      "  ALIGNED : True\n",
      "  WRITEBACKIFCOPY : False\n",
      "  UPDATEIFCOPY : False\n",
      "\n",
      "Data Type: uint64\n"
     ]
    }
   ],
   "source": [
    "# 3 D Arrays\n",
    "\n",
    "l1 = [\n",
    "    [[1,2,3,4],\n",
    "     [3,4,5,6],\n",
    "     [2,3,4,5],\n",
    "     [4,5,6,7]],\n",
    "    [[6,7,8,9],\n",
    "     [4,5,6,7],\n",
    "     [2,3,4,5],\n",
    "     [5,6,7,8]],\n",
    "    [[2,3,4,5],\n",
    "     [3,4,5,6],\n",
    "     [3,4,5,6],\n",
    "     [5,6,7,8]],\n",
    "]\n",
    "arr5 = np.array(l1, dtype = np.uint64)\n",
    "\n",
    "print(\"Array: \", arr5)\n",
    "print(\"Array Shape: \", arr5.shape)         # no of layers , no of rows , no of columns\n",
    "print(\"Dimensions:\", arr5.ndim)\n",
    "print(\"Size of array: \", arr5.size)        # no of layers * no of rows * no of columns\n",
    "print(\"Each item size: \", arr5.itemsize)\n",
    "print(\"Number of bytes:\", arr5.nbytes)\n",
    "print(\"Strides: \", arr5.strides)           # bytes to change layer, rows and columns\n",
    "print(\"Memory Data:\", arr5.data)\n",
    "print(\"Memory Flag: \", arr5.flags)\n",
    "print(\"Data Type:\", arr5.dtype)"
   ]
  },
  {
   "cell_type": "markdown",
   "metadata": {},
   "source": [
    "### `np.zeros` method"
   ]
  },
  {
   "cell_type": "code",
   "execution_count": 74,
   "metadata": {},
   "outputs": [
    {
     "name": "stdout",
     "output_type": "stream",
     "text": [
      "[0. 0. 0. 0. 0.]\n",
      "[[0. 0. 0.]\n",
      " [0. 0. 0.]]\n",
      "[[0 0]\n",
      " [0 0]\n",
      " [0 0]]\n"
     ]
    }
   ],
   "source": [
    "# creating 1 D array using zeros method\n",
    "arr1 = np.zeros(5)\n",
    "print (arr1)\n",
    "\n",
    "# creating 2 D array using zeros method\n",
    "\n",
    "arr2  = np.zeros((2,3))\n",
    "print(arr2)\n",
    "\n",
    "arr3 = np.zeros((3,2), dtype = np.uint16)\n",
    "print(arr3)"
   ]
  },
  {
   "cell_type": "markdown",
   "metadata": {},
   "source": [
    "### `np.ones()` method"
   ]
  },
  {
   "cell_type": "code",
   "execution_count": 77,
   "metadata": {},
   "outputs": [
    {
     "name": "stdout",
     "output_type": "stream",
     "text": [
      "[1. 1. 1. 1.]\n",
      "[[1 1 1 1 1]\n",
      " [1 1 1 1 1]\n",
      " [1 1 1 1 1]]\n",
      "[[[1 1 1 1]\n",
      "  [1 1 1 1]\n",
      "  [1 1 1 1]]\n",
      "\n",
      " [[1 1 1 1]\n",
      "  [1 1 1 1]\n",
      "  [1 1 1 1]]]\n"
     ]
    }
   ],
   "source": [
    "# creating 1 D array using ones method\n",
    "arr1 = np.ones(4)\n",
    "print(arr1)\n",
    "\n",
    "# creating 2 D array using ones method\n",
    "arr3 = np.ones((3,5), dtype=np.uint16)\n",
    "print(arr3)\n",
    "\n",
    "# creating 3 D array using ones method\n",
    "arr2 = np.ones((2,3,4), dtype=np.uint8)\n",
    "print(arr2)"
   ]
  },
  {
   "cell_type": "markdown",
   "metadata": {},
   "source": [
    "### `np.empty()` method\n",
    "- this method creates junck values"
   ]
  },
  {
   "cell_type": "code",
   "execution_count": 87,
   "metadata": {},
   "outputs": [
    {
     "name": "stdout",
     "output_type": "stream",
     "text": [
      "[7.74860419e-304 7.74860419e-304 7.74860419e-304]\n",
      "[[10057     0     0     0     0]\n",
      " [    0     0     0    32     0]]\n",
      "[[[  0   0   0   0]\n",
      "  [  0   0 240  63]\n",
      "  [  0   0   0   0]\n",
      "  [  0   0 240  63]]\n",
      "\n",
      " [[  0   0   0   0]\n",
      "  [  0   0 240  63]\n",
      "  [  0   0   0   0]\n",
      "  [  0   0 240  63]]]\n"
     ]
    }
   ],
   "source": [
    "# creating 1 D array using empty method\n",
    "arr1 = np.empty(3)\n",
    "print(arr1)\n",
    "\n",
    "# creating 2 D array using empty method\n",
    "arr3 = np.empty((2,5), dtype=np.uint16)\n",
    "print(arr3)\n",
    "\n",
    "# creating 3 D array using empty method\n",
    "arr2 = np.empty((2,4,4), dtype=np.uint8)\n",
    "print(arr2)"
   ]
  },
  {
   "cell_type": "markdown",
   "metadata": {},
   "source": [
    "### `np.full()` method\n",
    "- first argument shows the shape of array\n",
    "- second element shows element to be filled\n",
    "- third argument shows data type"
   ]
  },
  {
   "cell_type": "code",
   "execution_count": 91,
   "metadata": {},
   "outputs": [
    {
     "name": "stdout",
     "output_type": "stream",
     "text": [
      "[5 5 5]\n",
      "[[45 45 45 45 45]\n",
      " [45 45 45 45 45]]\n",
      "[[[119 119 119 119]\n",
      "  [119 119 119 119]\n",
      "  [119 119 119 119]\n",
      "  [119 119 119 119]]\n",
      "\n",
      " [[119 119 119 119]\n",
      "  [119 119 119 119]\n",
      "  [119 119 119 119]\n",
      "  [119 119 119 119]]]\n"
     ]
    }
   ],
   "source": [
    "# creating 1 D array using full method\n",
    "arr1 = np.full(3, 5, dtype = np.uint8)\n",
    "print(arr1)\n",
    "\n",
    "# creating 2 D array using full method\n",
    "arr3 = np.full((2,5), 45, dtype=np.uint16)\n",
    "print(arr3)\n",
    "\n",
    "# creating 3 D array using full method\n",
    "arr2 = np.full((2,4,4), 119, dtype=np.uint8)\n",
    "print(arr2)"
   ]
  },
  {
   "cell_type": "markdown",
   "metadata": {},
   "source": [
    "### `np.eye()` Method\n",
    "This method is used to create a 2-D array with ones on the diagonal and zeros elsewhere.\n",
    "\n",
    "```\n",
    "eye(N, M=None, k=0 , dtype=float)\n",
    "```\n",
    "- N: Number of rows in the output\n",
    "- M: Number of columns in the output. If None, defaults to N\n",
    "- k: Index of the diagonal: (Default 0) refers to the main diagonal, a positive value refers to an upper diagonal, and a negative value to a lower diagonal\n",
    "- dtype: Data-type of the returned array"
   ]
  },
  {
   "cell_type": "code",
   "execution_count": 95,
   "metadata": {},
   "outputs": [
    {
     "name": "stdout",
     "output_type": "stream",
     "text": [
      "[[1. 0. 0. 0.]\n",
      " [0. 1. 0. 0.]\n",
      " [0. 0. 1. 0.]]\n",
      "[[0 1 0]\n",
      " [0 0 1]\n",
      " [0 0 0]]\n",
      "[[0 0 0 0]\n",
      " [1 0 0 0]\n",
      " [0 1 0 0]]\n"
     ]
    }
   ],
   "source": [
    "# Creating an identical method with 3 rows and 4 columns \n",
    "arr1 = np.eye(3,4)\n",
    "print(arr1)\n",
    "\n",
    "# creating an identical method with 3 rows and 3 columns, 1 upper diagonal with int data type\n",
    "arr2 = np.eye(3,3,1,dtype = np.uint8)\n",
    "print(arr2)\n",
    "\n",
    "\n",
    "# creating an identical method with 3 rows and 4 columns, 1 lower diagonal with int 64 \n",
    "arr3 = np.eye(3,4,-1,dtype=np.uint64)\n",
    "print(arr3)"
   ]
  },
  {
   "cell_type": "markdown",
   "metadata": {},
   "source": [
    "### `np.arange()` Method\n",
    "\n",
    "This function is used to get evenly spaced values within a given interval.\n",
    "\n",
    "```\n",
    "numpy.arange([start,] stop[, step])\n",
    "```\n",
    "- If only one argument is given will generate an int64 array from zero to that value (not inclusive)\n",
    "- If two arguments are given then start value in inclusive, stop value is not inclusive and the default step is 1\n",
    "- If three arguments are given then the third argument is the distance between two adjacent values. (default step size is 1)\n",
    "- All the three arguments can be integers or floats\n"
   ]
  },
  {
   "cell_type": "code",
   "execution_count": 104,
   "metadata": {},
   "outputs": [
    {
     "name": "stdout",
     "output_type": "stream",
     "text": [
      "[0 1 2]\n",
      "[2 3 4 5]\n",
      "[ 1  3  5  7  9 11]\n",
      "[ 5  7  9 11 13 15 17 19 21 23 25 27 29 31 33 35 37 39 41 43 45 47 49]\n",
      "[]\n"
     ]
    }
   ],
   "source": [
    "# creating an array from 1 to 3 equaly spaced with the interval of 1\n",
    "arr1 = np.arange(3)\n",
    "print(arr1)\n",
    "\n",
    "\n",
    "# creating an array from 2 to 6 equally sapced interval of 1\n",
    "arr2 = np.arange(2,6)\n",
    "print(arr2)\n",
    "\n",
    "\n",
    "# creating an array from 1 to 12 equally spaced with the interval of 2\n",
    "arr3 = np.arange(1,12,2)\n",
    "print(arr3)\n",
    "\n",
    "\n",
    "# creating an array from 5 to 50 equally spaced with the interval of 2 and of data type int 64\n",
    "arr4 = np.arange(5,50,2,dtype=np.uint64)\n",
    "print(arr4)\n",
    "\n",
    "\n",
    "# creating an array from 5 to 3 equally spaced with the interval of 2 and of data type int 64\n",
    "arr5 = np.arange(5,3,2,dtype=np.uint64)\n",
    "print(arr5)"
   ]
  },
  {
   "cell_type": "markdown",
   "metadata": {},
   "source": [
    "###  `np.linspace()` Method\n",
    "\n",
    "This method by default returns an array of 50 evenly spaced elements starting from the first argument (inclusive) to the second argument (inclusive). The third argument, if given, is the count of number of elements of the array, default is 50.\n",
    "\n",
    "```\n",
    "numpy.linspace(start, stop, num=50)\n",
    "```"
   ]
  },
  {
   "cell_type": "code",
   "execution_count": 113,
   "metadata": {},
   "outputs": [
    {
     "name": "stdout",
     "output_type": "stream",
     "text": [
      "[3.         3.02040816 3.04081633 3.06122449 3.08163265 3.10204082\n",
      " 3.12244898 3.14285714 3.16326531 3.18367347 3.20408163 3.2244898\n",
      " 3.24489796 3.26530612 3.28571429 3.30612245 3.32653061 3.34693878\n",
      " 3.36734694 3.3877551  3.40816327 3.42857143 3.44897959 3.46938776\n",
      " 3.48979592 3.51020408 3.53061224 3.55102041 3.57142857 3.59183673\n",
      " 3.6122449  3.63265306 3.65306122 3.67346939 3.69387755 3.71428571\n",
      " 3.73469388 3.75510204 3.7755102  3.79591837 3.81632653 3.83673469\n",
      " 3.85714286 3.87755102 3.89795918 3.91836735 3.93877551 3.95918367\n",
      " 3.97959184 4.        ]\n",
      "[5.         4.97959184 4.95918367 4.93877551 4.91836735 4.89795918\n",
      " 4.87755102 4.85714286 4.83673469 4.81632653 4.79591837 4.7755102\n",
      " 4.75510204 4.73469388 4.71428571 4.69387755 4.67346939 4.65306122\n",
      " 4.63265306 4.6122449  4.59183673 4.57142857 4.55102041 4.53061224\n",
      " 4.51020408 4.48979592 4.46938776 4.44897959 4.42857143 4.40816327\n",
      " 4.3877551  4.36734694 4.34693878 4.32653061 4.30612245 4.28571429\n",
      " 4.26530612 4.24489796 4.2244898  4.20408163 4.18367347 4.16326531\n",
      " 4.14285714 4.12244898 4.10204082 4.08163265 4.06122449 4.04081633\n",
      " 4.02040816 4.        ]\n",
      "[ 1. 12.]\n",
      "[ 5  5  5  6  6  7  7  8  8  9  9 10 10 10 11 11 12 12 13 13 14 14 15 15\n",
      " 15 16 16 17 17 18 18 19 19 20 20 20 21 21 22 22 23 23 24 24 25 25 25 26\n",
      " 26 27 27 28 28 29 29 30 30 30 31 31 32 32 33 33 34 34 35 35 35 36 36 37\n",
      " 37 38 38 39 39 40 40 40 41 41 42 42 43 43 44 44 45 45 45 46 46 47 47 48\n",
      " 48 49 49 50]\n"
     ]
    }
   ],
   "source": [
    "# creating an array from 3 to 4 equaly spaced into 50 elements\n",
    "arr1 = np.linspace(3,4)\n",
    "print(arr1)\n",
    "\n",
    "\n",
    "# creating an array from 5 to 6 equally spaced into 50 elements\n",
    "arr2 = np.linspace(5,4)\n",
    "print(arr2)\n",
    "\n",
    "\n",
    "# creating an array from 1 to 12 equally spaced into 2 elements\n",
    "arr3 = np.linspace(1,12,2)\n",
    "print(arr3)\n",
    "\n",
    "\n",
    "# creating an array from 5 to 50 into 100 elemnts and of data type int 64\n",
    "arr4 = np.linspace(5,50,100,dtype=np.uint64)\n",
    "print(arr4)\n"
   ]
  },
  {
   "cell_type": "markdown",
   "metadata": {},
   "source": [
    "### `np.random.rand()` Method\n",
    "- This method generates an array of random floats (between 0 and 1) of as many dimensions passed as argument.\n",
    "- If no argument is passed, generates a scalar value between 0 and 1"
   ]
  },
  {
   "cell_type": "code",
   "execution_count": 125,
   "metadata": {},
   "outputs": [
    {
     "name": "stdout",
     "output_type": "stream",
     "text": [
      "0.008754589105756772\n",
      "[0.86370833 0.28608951 0.86978083 0.77643596 0.67106691]\n",
      "[4.11530485 2.44575385 2.19643431 6.42023158 1.0848113 ]\n",
      "[7.31754193 8.69903439 4.29565174 2.31903206 9.52776678 2.86768005\n",
      " 3.82121336 4.88819361 3.40686973 9.07885536 0.21364878 5.88003845\n",
      " 5.43481605 6.92674964 4.16332911]\n"
     ]
    },
    {
     "data": {
      "text/plain": [
       "array([[[10.5546493 ,  5.14800992,  6.47704916],\n",
       "        [10.08687643, 10.12202692,  3.07230012],\n",
       "        [11.05634594,  2.68937067,  7.08889883],\n",
       "        [ 8.68519924,  6.5559723 , 11.10656333]],\n",
       "\n",
       "       [[ 3.92001268, 15.37298278, 17.10391548],\n",
       "        [19.4028707 ,  9.87708776, 13.01427303],\n",
       "        [19.62319842,  6.75291612, 16.26362341],\n",
       "        [14.30311848, 11.40508593,  1.48222943]],\n",
       "\n",
       "       [[16.82564205,  8.41188247, 16.22929553],\n",
       "        [19.48153495,  6.57395111, 12.16987354],\n",
       "        [ 2.44150645,  7.91024232, 19.84514119],\n",
       "        [ 9.43200923, 14.28479082,  5.25072875]],\n",
       "\n",
       "       [[ 3.26996421,  8.89123709,  0.51408345],\n",
       "        [10.40745945, 19.66311352,  6.53004077],\n",
       "        [15.48967599, 18.34240478,  0.52127959],\n",
       "        [16.21764565,  3.53412307,  1.99908977]],\n",
       "\n",
       "       [[19.75112626,  0.17217526, 10.3080097 ],\n",
       "        [17.0964931 , 18.43077239, 13.21682553],\n",
       "        [ 7.71034749,  3.46434145, 10.81502884],\n",
       "        [19.07716895, 14.27438876, 15.41878948]]])"
      ]
     },
     "execution_count": 125,
     "metadata": {},
     "output_type": "execute_result"
    }
   ],
   "source": [
    "# generate a random variable between 0 to 1, no argument is passed, scalar value will be generated\n",
    "num = np.random.rand()\n",
    "print(num)\n",
    "\n",
    "\n",
    "# generate an array of five elements between 0 to 1\n",
    "num = np.random.rand(5)\n",
    "print(num)\n",
    "\n",
    "# generate an array of five elements between 0 to 7\n",
    "num = np.random.rand(5)*7\n",
    "print(num)\n",
    "\n",
    "\n",
    "# generate an 2 D array of shape(5*3) between 0 to 10 \n",
    "num = np.random.rand(5*3)*10\n",
    "print(num)\n",
    "\n",
    "\n",
    "# Creating 3-D array of with random values using np.random.rand() from 0 to 20\n",
    "arr = np.random.rand(5,4,3)*20\n",
    "arr"
   ]
  },
  {
   "cell_type": "markdown",
   "metadata": {},
   "source": [
    "### `np.random.randint()` Method\n",
    "This method returns an array of specified shape and fills it with random integers.\n",
    "```\n",
    "numpy.random.randint(low, high=None, size)\n",
    "```\n",
    "- low: Lowest (signed) integer to be drawn from the distribution. But, it works as a highest integer in the sample if high=None.\n",
    "- high: Largest (signed) integer to be drawn from the distribution (not inclusive)\n",
    "- size: number of samples to be generated (default is 1 for scalar and >1 for 1-D array and a tupple for ndarray)"
   ]
  },
  {
   "cell_type": "code",
   "execution_count": 132,
   "metadata": {},
   "outputs": [
    {
     "name": "stdout",
     "output_type": "stream",
     "text": [
      "2\n"
     ]
    },
    {
     "data": {
      "text/plain": [
       "array([[[2, 6, 5, 3],\n",
       "        [7, 1, 7, 1],\n",
       "        [3, 2, 7, 7]],\n",
       "\n",
       "       [[5, 7, 2, 2],\n",
       "        [3, 6, 6, 3],\n",
       "        [1, 9, 5, 5]]])"
      ]
     },
     "execution_count": 132,
     "metadata": {},
     "output_type": "execute_result"
    }
   ],
   "source": [
    "# Generating a random integer scalar b/w interval (0,9) \n",
    "value = np.random.randint(10)\n",
    "print(value)\n",
    "\n",
    "\n",
    "# Generating a random integer scalar b/w interval (5,19) \n",
    "value = np.random.randint(low=5, high=20)\n",
    "value\n",
    "\n",
    "\n",
    "# creating 1-D array of size 6 of int type b/w interval (1,100) \n",
    "arr = np.random.randint(low=1, high=101, size=6)\n",
    "arr\n",
    "\n",
    "# By passing a tuple to size means rows and columns\n",
    "arr = np.random.randint(low = 1, high = 10, size = (3,3))\n",
    "arr\n",
    "\n",
    "\n",
    "arr = np.random.randint(low = 1, high = 10, size = (2,3,4))\n",
    "arr"
   ]
  },
  {
   "cell_type": "markdown",
   "metadata": {},
   "source": [
    "\n",
    "###  `np.zeros_like()` Method\n",
    "This method is used to get an array of zeros with the same shape and type as a given array.\n",
    "\n",
    "```\n",
    "zeros_like(arr, dtype=None) \n",
    "```\n",
    "\n",
    "- arr: array like input\n",
    "- dtype: Overrides the data type of the result"
   ]
  },
  {
   "cell_type": "code",
   "execution_count": 133,
   "metadata": {},
   "outputs": [
    {
     "name": "stdout",
     "output_type": "stream",
     "text": [
      "A 2-D array \n",
      " [[0 1]\n",
      " [2 3]]\n",
      "\n",
      " Converted Array \n",
      " [[0 0]\n",
      " [0 0]]\n"
     ]
    }
   ],
   "source": [
    "# creating a 2-D array\n",
    "mylist = [[0, 1],[2, 3]]\n",
    "arr1 = np.array(mylist)\n",
    "print(\"A 2-D array \\n\", arr1)\n",
    "\n",
    "# creating the same array as the shape of 'arr' filled with zeros\n",
    "arr2 = np.zeros_like(arr1)\n",
    "print(\"\\n Converted Array \\n\", arr2)"
   ]
  }
 ],
 "metadata": {
  "kernelspec": {
   "display_name": "Python 3",
   "language": "python",
   "name": "python3"
  },
  "language_info": {
   "codemirror_mode": {
    "name": "ipython",
    "version": 3
   },
   "file_extension": ".py",
   "mimetype": "text/x-python",
   "name": "python",
   "nbconvert_exporter": "python",
   "pygments_lexer": "ipython3",
   "version": "3.10.6 (main, Nov 14 2022, 16:10:14) [GCC 11.3.0]"
  },
  "vscode": {
   "interpreter": {
    "hash": "916dbcbb3f70747c44a77c7bcd40155683ae19c65e1c03b4aa3499c5328201f1"
   }
  }
 },
 "nbformat": 4,
 "nbformat_minor": 2
}
