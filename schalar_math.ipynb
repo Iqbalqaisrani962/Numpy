{
 "cells": [
  {
   "cell_type": "markdown",
   "id": "5c83932a",
   "metadata": {},
   "source": [
    "## Scalar Math\n",
    "#### ***First Method***"
   ]
  },
  {
   "cell_type": "code",
   "execution_count": 7,
   "id": "b9e6e6a6",
   "metadata": {},
   "outputs": [
    {
     "name": "stdout",
     "output_type": "stream",
     "text": [
      "[9 3 1 6]\n",
      "After addition:  [11  5  3  8]\n",
      "After substraction:  [ 7  1 -1  4]\n",
      "After multiplication:  [18  6  2 12]\n",
      "After division:  [4.5 1.5 0.5 3. ]\n",
      "After Mod operations:  [1 1 1 0]\n"
     ]
    }
   ],
   "source": [
    "import numpy as np\n",
    "# creating 1 D array having 4 random elements from 1 to 10 \n",
    "arr1 = np.random.randint(1,10,size=4)\n",
    "print(arr1)\n",
    "# after the operations, a new ndarray is created\n",
    "arr2 = arr1+2\n",
    "print(\"After addition: \",arr2)\n",
    "arr3 = arr1-2\n",
    "print(\"After substraction: \",arr3)\n",
    "arr4 = arr1*2\n",
    "print(\"After multiplication: \",arr4)\n",
    "arr5 = arr1/2\n",
    "print(\"After division: \",arr5)\n",
    "arr6 = arr1%2\n",
    "print(\"After Mod operations: \",arr6)"
   ]
  },
  {
   "cell_type": "markdown",
   "id": "b5e48af9",
   "metadata": {},
   "source": [
    "#### ***Second Method***"
   ]
  },
  {
   "cell_type": "code",
   "execution_count": 12,
   "id": "f7d8c080",
   "metadata": {},
   "outputs": [
    {
     "name": "stdout",
     "output_type": "stream",
     "text": [
      "[[7 4 9]\n",
      " [6 3 7]]\n",
      "After addition:  [[ 9  6 11]\n",
      " [ 8  5  9]]\n",
      "After substraction:  [[5 2 7]\n",
      " [4 1 5]]\n",
      "After multiplication:  [[14  8 18]\n",
      " [12  6 14]]\n",
      "After division:  [[3.5 2.  4.5]\n",
      " [3.  1.5 3.5]]\n",
      "After Mod operations:  [[1 0 1]\n",
      " [0 1 1]]\n"
     ]
    }
   ],
   "source": [
    "# scalar operations on 2 D arrays\n",
    "arr1 = np.random.randint(1,10,size=(2,3))\n",
    "print(arr1)\n",
    "# after the operations, a new ndarray is created\n",
    "arr2 = np.add(arr1,2)\n",
    "print(\"After addition: \",arr2)\n",
    "arr3 = np.subtract(arr1,2)\n",
    "print(\"After substraction: \",arr3)\n",
    "arr4 = np.multiply(arr1,2)\n",
    "print(\"After multiplication: \",arr4)\n",
    "arr5 = np.divide(arr1,2)\n",
    "print(\"After division: \",arr5)\n",
    "arr6 = np.mod(arr1,2)\n",
    "print(\"After Mod operations: \",arr6)"
   ]
  },
  {
   "cell_type": "markdown",
   "id": "a57237bd",
   "metadata": {},
   "source": [
    "### Arithmetic Operations on Arrays\n",
    "#### ***First Method***"
   ]
  },
  {
   "cell_type": "code",
   "execution_count": 14,
   "id": "c51e5e5b",
   "metadata": {},
   "outputs": [
    {
     "name": "stdout",
     "output_type": "stream",
     "text": [
      "Array1: [[5 3 5]\n",
      " [3 8 4]]\n",
      "Array2: [[5 3 5]\n",
      " [3 8 4]]\n",
      "After addition:  [[22 21 19]\n",
      " [20 21 23]]\n",
      "After substraction:  [[-12 -15  -9]\n",
      " [-14  -5 -15]]\n",
      "After multiplication:  [[ 85  54  70]\n",
      " [ 51 104  76]]\n",
      "After division:  [[0.29411765 0.16666667 0.35714286]\n",
      " [0.17647059 0.61538462 0.21052632]]\n",
      "After Mod operations:  [[5 3 5]\n",
      " [3 8 4]]\n"
     ]
    }
   ],
   "source": [
    "# scalar operations on 2 D arrays\n",
    "arr1 = np.random.randint(1,10,size=(2,3))\n",
    "arr2 = np.random.randint(11,20,size=(2,3))\n",
    "print(\"Array1:\" ,arr1)\n",
    "print(\"Array2:\", arr1)\n",
    "# after the operations, a new ndarray is created\n",
    "arrAdd = np.add(arr1,arr2)\n",
    "print(\"After addition: \",arrAdd)\n",
    "arrSub = np.subtract(arr1,arr2)\n",
    "print(\"After substraction: \",arrSub)\n",
    "arrMul = np.multiply(arr1,arr2)\n",
    "print(\"After multiplication: \",arrMul)\n",
    "arrDiv = np.divide(arr1,arr2)\n",
    "print(\"After division: \",arrDiv)\n",
    "arrMod = np.mod(arr1,arr2)\n",
    "print(\"After Mod operations: \",arrMod)"
   ]
  },
  {
   "cell_type": "markdown",
   "id": "f3d43a77",
   "metadata": {},
   "source": [
    "### ***Second Method***"
   ]
  },
  {
   "cell_type": "code",
   "execution_count": 20,
   "id": "799f436d",
   "metadata": {},
   "outputs": [
    {
     "name": "stdout",
     "output_type": "stream",
     "text": [
      "Array1: [7 6 6 8]\n",
      "Array2: [17 19 18 14]\n",
      "After addition:  [24 25 24 22]\n",
      "After substraction:  [-10 -13 -12  -6]\n",
      "After multiplication:  [119 114 108 112]\n",
      "After division:  [0.41176471 0.31578947 0.33333333 0.57142857]\n",
      "After Mod operations:  [7 6 6 8]\n"
     ]
    }
   ],
   "source": [
    "# scalar operations on 1 D arrays\n",
    "arr1 = np.random.randint(1,10,size=(4))\n",
    "arr2 = np.random.randint(11,20,size=(4))\n",
    "print(\"Array1:\" ,arr1)\n",
    "print(\"Array2:\", arr2)\n",
    "# after the operations, a new ndarray is created\n",
    "arrAdd = arr1+arr2\n",
    "print(\"After addition: \",arrAdd)\n",
    "arrSub = arr1-arr2\n",
    "print(\"After substraction: \",arrSub)\n",
    "arrMul = arr1*arr2\n",
    "print(\"After multiplication: \",arrMul)\n",
    "arrDiv = arr1/arr2\n",
    "print(\"After division: \",arrDiv)\n",
    "arrMod = arr1%arr2\n",
    "print(\"After Mod operations: \",arrMod)"
   ]
  },
  {
   "attachments": {},
   "cell_type": "markdown",
   "id": "7f746d1b",
   "metadata": {},
   "source": [
    "### ***Mathematical Operations***\n",
    "##### ***1 D Array*** "
   ]
  },
  {
   "cell_type": "code",
   "execution_count": 24,
   "id": "a5d7810d",
   "metadata": {},
   "outputs": [
    {
     "name": "stdout",
     "output_type": "stream",
     "text": [
      "Actual Array:  [8.35556777 3.33691814 2.95914985 7.13540998 1.21516838]\n",
      "Absolute Values:  [8.35556777 3.33691814 2.95914985 7.13540998 1.21516838]\n",
      "Square:  [69.81551269 11.13502266  8.75656781 50.91407556  1.47663418]\n",
      "Square Root:  [2.8905999  1.82672333 1.72021796 2.67121882 1.10234676]\n",
      "Cube Root:  [2.02920219 1.49433689 1.4356734  1.92518725 1.06711728]\n",
      "Log:  [2.12292811 1.20504767 1.08490201 1.96506971 0.19488265]\n",
      "Log2:  [3.06273786 1.73851629 1.56518275 2.83499632 0.28115623]\n",
      "Log10:  [0.92197597 0.52334555 0.47116696 0.85341893 0.08463646]\n",
      "Is Nan:  [False False False False False]\n",
      "Ceil:  [9. 4. 3. 8. 2.]\n",
      "Floor:  [8. 3. 2. 7. 1.]\n",
      "Cumsum:  [ 8.35556777 11.6924859  14.65163575 21.78704573 23.0022141 ]\n"
     ]
    }
   ],
   "source": [
    "import numpy as np\n",
    "# creating 1 D array of 5 elements of random floats between 0 and 10\n",
    "arr1 = np.random.rand(5)*10\n",
    "print(\"Actual Array: \", arr1)\n",
    "absArr1 = np.abs(arr1)                      # this will return non negative numbers \n",
    "print(\"Absolute Values: \",absArr1)   \n",
    "sqrArr1 = np.square(arr1)                   # this will return square of each element\n",
    "print(\"Square: \",sqrArr1)   \n",
    "sqrtArr1 = np.sqrt(arr1)                    # this will return square root of each element\n",
    "print(\"Square Root: \",sqrtArr1)    \n",
    "cbrtArr1 = np.cbrt(arr1)                    # this will return cube root of each element\n",
    "print(\"Cube Root: \",cbrtArr1)   \n",
    "logArr1 = np.log(arr1)                      # this will return log of each element\n",
    "print(\"Log: \",logArr1) \n",
    "log2Arr1 = np.log2(arr1)                    # this will return log2 of each element\n",
    "print(\"Log2: \",log2Arr1) \n",
    "log10Arr1 = np.log10(arr1)                  # this will return log10 of each element\n",
    "print(\"Log10: \",log10Arr1) \n",
    "isnanArr1 = np.isnan(arr1)                  # this will return true of each element if value is nan else false\n",
    "print(\"Is Nan: \",isnanArr1) \n",
    "ceilArr1 = np.ceil(arr1)                    # this will return ceil value of each element\n",
    "print(\"Ceil: \",ceilArr1) \n",
    "floorArr1 = np.floor(arr1)                  # this will return floor value of each element\n",
    "print(\"Floor: \",floorArr1) \n",
    "cumsumArr1 = np.cumsum(arr1)                  # this will return cumulative sum of all elements along the given axis\n",
    "print(\"Cumsum: \",cumsumArr1) "
   ]
  },
  {
   "attachments": {},
   "cell_type": "markdown",
   "id": "32c3da61",
   "metadata": {},
   "source": [
    "##### ***2 D Array***"
   ]
  },
  {
   "cell_type": "code",
   "execution_count": 25,
   "id": "19a45e00",
   "metadata": {},
   "outputs": [
    {
     "name": "stdout",
     "output_type": "stream",
     "text": [
      "Actual Array:  [-2 -1 -4  4 -1 -4 -2 -4  0  0]\n",
      "Absolute Values:  [2 1 4 4 1 4 2 4 0 0]\n",
      "Square:  [ 4  1 16 16  1 16  4 16  0  0]\n",
      "Square Root:  [nan nan nan  2. nan nan nan nan  0.  0.]\n",
      "Cube Root:  [-1.25992105 -1.         -1.58740105  1.58740105 -1.         -1.58740105\n",
      " -1.25992105 -1.58740105  0.          0.        ]\n",
      "Log:  [       nan        nan        nan 1.38629436        nan        nan\n",
      "        nan        nan       -inf       -inf]\n",
      "Log2:  [ nan  nan  nan   2.  nan  nan  nan  nan -inf -inf]\n",
      "Log10:  [       nan        nan        nan 0.60205999        nan        nan\n",
      "        nan        nan       -inf       -inf]\n",
      "Is Nan:  [False False False False False False False False False False]\n",
      "Ceil:  [-2. -1. -4.  4. -1. -4. -2. -4.  0.  0.]\n",
      "Floor:  [-2. -1. -4.  4. -1. -4. -2. -4.  0.  0.]\n",
      "Cumulative Sum:  [ -2  -3  -7  -3  -4  -8 -10 -14 -14 -14]\n"
     ]
    },
    {
     "name": "stderr",
     "output_type": "stream",
     "text": [
      "C:\\Users\\muhammad.iqbal\\AppData\\Local\\Temp\\ipykernel_11772\\3355799235.py:9: RuntimeWarning: invalid value encountered in sqrt\n",
      "  sqrtArr1 = np.sqrt(arr1)                    # this will return square root of each element\n",
      "C:\\Users\\muhammad.iqbal\\AppData\\Local\\Temp\\ipykernel_11772\\3355799235.py:13: RuntimeWarning: divide by zero encountered in log\n",
      "  logArr1 = np.log(arr1)                      # this will return log of each element\n",
      "C:\\Users\\muhammad.iqbal\\AppData\\Local\\Temp\\ipykernel_11772\\3355799235.py:13: RuntimeWarning: invalid value encountered in log\n",
      "  logArr1 = np.log(arr1)                      # this will return log of each element\n",
      "C:\\Users\\muhammad.iqbal\\AppData\\Local\\Temp\\ipykernel_11772\\3355799235.py:15: RuntimeWarning: divide by zero encountered in log2\n",
      "  log2Arr1 = np.log2(arr1)                    # this will return log2 of each element\n",
      "C:\\Users\\muhammad.iqbal\\AppData\\Local\\Temp\\ipykernel_11772\\3355799235.py:15: RuntimeWarning: invalid value encountered in log2\n",
      "  log2Arr1 = np.log2(arr1)                    # this will return log2 of each element\n",
      "C:\\Users\\muhammad.iqbal\\AppData\\Local\\Temp\\ipykernel_11772\\3355799235.py:17: RuntimeWarning: divide by zero encountered in log10\n",
      "  log10Arr1 = np.log10(arr1)                  # this will return log10 of each element\n",
      "C:\\Users\\muhammad.iqbal\\AppData\\Local\\Temp\\ipykernel_11772\\3355799235.py:17: RuntimeWarning: invalid value encountered in log10\n",
      "  log10Arr1 = np.log10(arr1)                  # this will return log10 of each element\n"
     ]
    }
   ],
   "source": [
    "import numpy as np\n",
    "# creating 1 D array of 5 elements of random floats between 0 and 10\n",
    "arr1 = np.random.randint(-5,5,10)\n",
    "print(\"Actual Array: \", arr1)\n",
    "absArr1 = np.abs(arr1)                      # this will return non negative numbers \n",
    "print(\"Absolute Values: \",absArr1)   \n",
    "sqrArr1 = np.square(arr1)                   # this will return square of each element\n",
    "print(\"Square: \",sqrArr1)   \n",
    "sqrtArr1 = np.sqrt(arr1)                    # this will return square root of each element\n",
    "print(\"Square Root: \",sqrtArr1)    \n",
    "cbrtArr1 = np.cbrt(arr1)                    # this will return cube root of each element\n",
    "print(\"Cube Root: \",cbrtArr1)   \n",
    "logArr1 = np.log(arr1)                      # this will return log of each element\n",
    "print(\"Log: \",logArr1) \n",
    "log2Arr1 = np.log2(arr1)                    # this will return log2 of each element\n",
    "print(\"Log2: \",log2Arr1) \n",
    "log10Arr1 = np.log10(arr1)                  # this will return log10 of each element\n",
    "print(\"Log10: \",log10Arr1) \n",
    "isnanArr1 = np.isnan(arr1)                  # this will return true of each element if value is nan else false\n",
    "print(\"Is Nan: \",isnanArr1) \n",
    "ceilArr1 = np.ceil(arr1)                    # this will return ceil value of each element\n",
    "print(\"Ceil: \",ceilArr1) \n",
    "floorArr1 = np.floor(arr1)                  # this will return floor value of each element\n",
    "print(\"Floor: \",floorArr1) \n",
    "cumsumArr1 = np.cumsum(arr1)                  # this will return cumulative sum of all elements along the given axis\n",
    "print(\"Cumulative Sum: \",cumsumArr1) "
   ]
  },
  {
   "attachments": {},
   "cell_type": "markdown",
   "id": "dbb44046",
   "metadata": {},
   "source": [
    "### ***Aggregate Functions***\n",
    "##### ***1 D Array***"
   ]
  },
  {
   "cell_type": "code",
   "execution_count": 38,
   "id": "af5853e1",
   "metadata": {},
   "outputs": [
    {
     "name": "stdout",
     "output_type": "stream",
     "text": [
      "[8 8 7 9 6 8 9 5 9 6]\n",
      "Min Value:  5\n",
      "Max Value:  9\n",
      "Sum Value:  75\n",
      "Product Value:  470292480\n",
      "Mean:  7.5\n",
      "Average:  7.5\n",
      "Median:  8.0\n",
      "Variance:  1.85\n",
      "Standar Deviation:  1.3601470508735443\n",
      "Standar Deviation:  1.3601470508735443\n",
      "Percentile100:  9.0\n",
      "Percentile0:  5.0\n"
     ]
    }
   ],
   "source": [
    "arr1 = np.random.randint(5,10, size=10)\n",
    "print(arr1)\n",
    "arr1Min = np.min(arr1)\n",
    "print(\"Min Value: \", arr1Min)\n",
    "arr1Max = np.max(arr1)\n",
    "print(\"Max Value: \", arr1Max)\n",
    "arr1Sum = np.sum(arr1)\n",
    "print(\"Sum Value: \", arr1Sum)\n",
    "arr1Pro = np.prod(arr1)                         # return product over the given axis\n",
    "print(\"Product Value: \", arr1Pro)  \n",
    "arr1Mean = np.mean(arr1)                        # return mean over the given axis\n",
    "print(\"Mean: \", arr1Mean)  \n",
    "arr1Avg = np.average(arr1)                      # return average over the given axis\n",
    "print(\"Average: \", arr1Avg)    \n",
    "arr1Median = np.median(arr1)                    # return median over the given axis\n",
    "print(\"Median: \", arr1Median)  \n",
    "arr1Variance = np.var(arr1)                     # return variance over the given axis, how each point id differ from mean\n",
    "print(\"Variance: \", arr1Variance)\n",
    "arr1Std = np.std(arr1)                          # return standard deviation over the given axis\n",
    "print(\"Standar Deviation: \", arr1Std)  \n",
    "arr1Std = np.std(arr1)                          # return standard deviation over the given axis\n",
    "print(\"Standar Deviation: \", arr1Std)\n",
    "arr1Per100 = np.percentile(arr1,100)            # return percentile  100\n",
    "print(\"Percentile100: \", arr1Per100)      \n",
    "arr1Per0 = np.percentile(arr1,0)                # return percentile 0\n",
    "print(\"Percentile0: \", arr1Per0)  "
   ]
  },
  {
   "attachments": {},
   "cell_type": "markdown",
   "id": "66cf1800",
   "metadata": {},
   "source": [
    "##### `***Next topic see from original files as my files deleted in hurry***`"
   ]
  }
 ],
 "metadata": {
  "kernelspec": {
   "display_name": "Python 3",
   "language": "python",
   "name": "python3"
  },
  "language_info": {
   "codemirror_mode": {
    "name": "ipython",
    "version": 3
   },
   "file_extension": ".py",
   "mimetype": "text/x-python",
   "name": "python",
   "nbconvert_exporter": "python",
   "pygments_lexer": "ipython3",
   "version": "3.10.8 (tags/v3.10.8:aaaf517, Oct 11 2022, 16:50:30) [MSC v.1933 64 bit (AMD64)]"
  },
  "vscode": {
   "interpreter": {
    "hash": "c938f314aa5630f5fcf3b4aad588f4edd0dbe140357325e666a8226cee1b2bf6"
   }
  }
 },
 "nbformat": 4,
 "nbformat_minor": 5
}
