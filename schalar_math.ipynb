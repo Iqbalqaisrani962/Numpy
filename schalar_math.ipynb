{
 "cells": [
  {
   "cell_type": "markdown",
   "id": "5c83932a",
   "metadata": {},
   "source": [
    "## Scalar Math\n",
    "#### ***First Method***"
   ]
  },
  {
   "cell_type": "code",
   "execution_count": 7,
   "id": "b9e6e6a6",
   "metadata": {},
   "outputs": [
    {
     "name": "stdout",
     "output_type": "stream",
     "text": [
      "[9 3 1 6]\n",
      "After addition:  [11  5  3  8]\n",
      "After substraction:  [ 7  1 -1  4]\n",
      "After multiplication:  [18  6  2 12]\n",
      "After division:  [4.5 1.5 0.5 3. ]\n",
      "After Mod operations:  [1 1 1 0]\n"
     ]
    }
   ],
   "source": [
    "import numpy as np\n",
    "# creating 1 D array having 4 random elements from 1 to 10 \n",
    "arr1 = np.random.randint(1,10,size=4)\n",
    "print(arr1)\n",
    "# after the operations, a new ndarray is created\n",
    "arr2 = arr1+2\n",
    "print(\"After addition: \",arr2)\n",
    "arr3 = arr1-2\n",
    "print(\"After substraction: \",arr3)\n",
    "arr4 = arr1*2\n",
    "print(\"After multiplication: \",arr4)\n",
    "arr5 = arr1/2\n",
    "print(\"After division: \",arr5)\n",
    "arr6 = arr1%2\n",
    "print(\"After Mod operations: \",arr6)"
   ]
  },
  {
   "cell_type": "markdown",
   "id": "b5e48af9",
   "metadata": {},
   "source": [
    "#### ***Second Method***"
   ]
  },
  {
   "cell_type": "code",
   "execution_count": 12,
   "id": "f7d8c080",
   "metadata": {},
   "outputs": [
    {
     "name": "stdout",
     "output_type": "stream",
     "text": [
      "[[7 4 9]\n",
      " [6 3 7]]\n",
      "After addition:  [[ 9  6 11]\n",
      " [ 8  5  9]]\n",
      "After substraction:  [[5 2 7]\n",
      " [4 1 5]]\n",
      "After multiplication:  [[14  8 18]\n",
      " [12  6 14]]\n",
      "After division:  [[3.5 2.  4.5]\n",
      " [3.  1.5 3.5]]\n",
      "After Mod operations:  [[1 0 1]\n",
      " [0 1 1]]\n"
     ]
    }
   ],
   "source": [
    "# scalar operations on 2 D arrays\n",
    "arr1 = np.random.randint(1,10,size=(2,3))\n",
    "print(arr1)\n",
    "# after the operations, a new ndarray is created\n",
    "arr2 = np.add(arr1,2)\n",
    "print(\"After addition: \",arr2)\n",
    "arr3 = np.subtract(arr1,2)\n",
    "print(\"After substraction: \",arr3)\n",
    "arr4 = np.multiply(arr1,2)\n",
    "print(\"After multiplication: \",arr4)\n",
    "arr5 = np.divide(arr1,2)\n",
    "print(\"After division: \",arr5)\n",
    "arr6 = np.mod(arr1,2)\n",
    "print(\"After Mod operations: \",arr6)"
   ]
  },
  {
   "cell_type": "markdown",
   "id": "a57237bd",
   "metadata": {},
   "source": [
    "### Arithmetic Operations on Arrays\n",
    "#### ***First Method***"
   ]
  },
  {
   "cell_type": "code",
   "execution_count": 14,
   "id": "c51e5e5b",
   "metadata": {},
   "outputs": [
    {
     "name": "stdout",
     "output_type": "stream",
     "text": [
      "Array1: [[5 3 5]\n",
      " [3 8 4]]\n",
      "Array2: [[5 3 5]\n",
      " [3 8 4]]\n",
      "After addition:  [[22 21 19]\n",
      " [20 21 23]]\n",
      "After substraction:  [[-12 -15  -9]\n",
      " [-14  -5 -15]]\n",
      "After multiplication:  [[ 85  54  70]\n",
      " [ 51 104  76]]\n",
      "After division:  [[0.29411765 0.16666667 0.35714286]\n",
      " [0.17647059 0.61538462 0.21052632]]\n",
      "After Mod operations:  [[5 3 5]\n",
      " [3 8 4]]\n"
     ]
    }
   ],
   "source": [
    "# scalar operations on 2 D arrays\n",
    "arr1 = np.random.randint(1,10,size=(2,3))\n",
    "arr2 = np.random.randint(11,20,size=(2,3))\n",
    "print(\"Array1:\" ,arr1)\n",
    "print(\"Array2:\", arr1)\n",
    "# after the operations, a new ndarray is created\n",
    "arrAdd = np.add(arr1,arr2)\n",
    "print(\"After addition: \",arrAdd)\n",
    "arrSub = np.subtract(arr1,arr2)\n",
    "print(\"After substraction: \",arrSub)\n",
    "arrMul = np.multiply(arr1,arr2)\n",
    "print(\"After multiplication: \",arrMul)\n",
    "arrDiv = np.divide(arr1,arr2)\n",
    "print(\"After division: \",arrDiv)\n",
    "arrMod = np.mod(arr1,arr2)\n",
    "print(\"After Mod operations: \",arrMod)"
   ]
  },
  {
   "cell_type": "markdown",
   "id": "f3d43a77",
   "metadata": {},
   "source": [
    "### ***Second Method***"
   ]
  },
  {
   "cell_type": "code",
   "execution_count": 20,
   "id": "799f436d",
   "metadata": {},
   "outputs": [
    {
     "name": "stdout",
     "output_type": "stream",
     "text": [
      "Array1: [7 6 6 8]\n",
      "Array2: [17 19 18 14]\n",
      "After addition:  [24 25 24 22]\n",
      "After substraction:  [-10 -13 -12  -6]\n",
      "After multiplication:  [119 114 108 112]\n",
      "After division:  [0.41176471 0.31578947 0.33333333 0.57142857]\n",
      "After Mod operations:  [7 6 6 8]\n"
     ]
    }
   ],
   "source": [
    "# scalar operations on 1 D arrays\n",
    "arr1 = np.random.randint(1,10,size=(4))\n",
    "arr2 = np.random.randint(11,20,size=(4))\n",
    "print(\"Array1:\" ,arr1)\n",
    "print(\"Array2:\", arr2)\n",
    "# after the operations, a new ndarray is created\n",
    "arrAdd = arr1+arr2\n",
    "print(\"After addition: \",arrAdd)\n",
    "arrSub = arr1-arr2\n",
    "print(\"After substraction: \",arrSub)\n",
    "arrMul = arr1*arr2\n",
    "print(\"After multiplication: \",arrMul)\n",
    "arrDiv = arr1/arr2\n",
    "print(\"After division: \",arrDiv)\n",
    "arrMod = arr1%arr2\n",
    "print(\"After Mod operations: \",arrMod)"
   ]
  },
  {
   "cell_type": "code",
   "execution_count": null,
   "id": "7f746d1b",
   "metadata": {},
   "outputs": [],
   "source": []
  }
 ],
 "metadata": {
  "kernelspec": {
   "display_name": "Python 3 (ipykernel)",
   "language": "python",
   "name": "python3"
  },
  "language_info": {
   "codemirror_mode": {
    "name": "ipython",
    "version": 3
   },
   "file_extension": ".py",
   "mimetype": "text/x-python",
   "name": "python",
   "nbconvert_exporter": "python",
   "pygments_lexer": "ipython3",
   "version": "3.9.13"
  }
 },
 "nbformat": 4,
 "nbformat_minor": 5
}
